{
  "nbformat": 4,
  "nbformat_minor": 0,
  "metadata": {
    "colab": {
      "provenance": []
    },
    "kernelspec": {
      "name": "python3",
      "display_name": "Python 3"
    },
    "language_info": {
      "name": "python"
    },
    "accelerator": "GPU",
    "gpuClass": "standard"
  },
  "cells": [
    {
      "cell_type": "code",
      "source": [
        "from google.colab import drive\n",
        "drive.mount('/content/drive')"
      ],
      "metadata": {
        "colab": {
          "base_uri": "https://localhost:8080/"
        },
        "id": "SvwRqGV8QiDC",
        "outputId": "56ef70ec-5dbd-40d8-8e4e-18c5beabf4f9"
      },
      "execution_count": null,
      "outputs": [
        {
          "output_type": "stream",
          "name": "stdout",
          "text": [
            "Mounted at /content/drive\n"
          ]
        }
      ]
    },
    {
      "cell_type": "code",
      "source": [
        "#import argparse\n",
        "import os\n",
        "import cv2\n",
        "import math\n",
        "import keras\n",
        "import matplotlib\n",
        "import numpy as np\n",
        "import pandas as pd\n",
        "from tqdm import tqdm\n",
        "import tensorflow as tf\n",
        "from keras.models import Model\n",
        "import matplotlib.pyplot as plt\n",
        "from keras.utils import np_utils\n",
        "from keras.models import Sequential\n",
        "from keras.layers import Input, Dense, Flatten, Dropout\n",
        "from keras.callbacks import ModelCheckpoint\n",
        "from keras.utils.vis_utils import plot_model\n",
        "from tensorflow.keras.optimizers import Adam\n",
        "from keras.losses import categorical_crossentropy\n",
        "from sklearn.model_selection import train_test_split\n",
        "from keras.layers import (Activation, Conv3D, MaxPooling3D, MaxPooling2D)\n",
        "\n",
        "\n",
        "##\n",
        "\n",
        "from keras.backend import set_session\n"
      ],
      "metadata": {
        "id": "Ayfh17vjTfgV"
      },
      "execution_count": null,
      "outputs": []
    },
    {
      "cell_type": "code",
      "source": [
        "#matplotlib.use('AGG')\n",
        "%matplotlib inline"
      ],
      "metadata": {
        "id": "gdppY_lTYpiq"
      },
      "execution_count": null,
      "outputs": []
    },
    {
      "cell_type": "code",
      "source": [
        "class Videoto3D:\n",
        "\n",
        "    def __init__(self, width, height, depth):\n",
        "        self.width = width\n",
        "        self.height = height\n",
        "        self.depth = depth\n",
        "\n",
        "    def video3d(self, filename, color=False, skip=True):\n",
        "\n",
        "        cap = cv2.VideoCapture(filename)\n",
        "\n",
        "        nframe = cap.get(cv2.CAP_PROP_FRAME_COUNT)\n",
        "\n",
        "        if skip:\n",
        "            frames = [x * nframe / self.depth for x in range(self.depth)]\n",
        "        else:\n",
        "            frames = [x for x in range(self.depth)]\n",
        "\n",
        "        framearray = []\n",
        "\n",
        "        for i in range(self.depth):\n",
        "            cap.set(cv2.CAP_PROP_POS_FRAMES, frames[i])\n",
        "            ret, frame = cap.read()\n",
        "\n",
        "            frame = cv2.resize(frame, (self.height, self.width))\n",
        "\n",
        "            if color:\n",
        "                framearray.append(frame)\n",
        "            else:\n",
        "                framearray.append(cv2.cvtColor(frame, cv2.COLOR_BGR2GRAY))\n",
        "\n",
        "        cap.release()\n",
        "\n",
        "        return np.array(framearray)\n",
        "\n",
        "    def get_UCF_classname(self, filename):\n",
        "        x =  filename[filename.find('_') + 1:filename.find('_', 2)]\n",
        "        print(x)\n",
        "        return x"
      ],
      "metadata": {
        "id": "wSwJdWjsTfrf"
      },
      "execution_count": null,
      "outputs": []
    },
    {
      "cell_type": "code",
      "source": [
        "def plot_history(history, result_dir):\n",
        "    plt.plot(history.history['accuracy'], marker='.')\n",
        "    plt.plot(history.history['val_accuracy'], marker='.')\n",
        "    plt.title('model accuracy')\n",
        "    plt.xlabel('epoch')\n",
        "    plt.ylabel('accuracy')\n",
        "    plt.grid()\n",
        "    plt.legend(['acc', 'val_acc'], loc='lower right')\n",
        "    plt.savefig(os.path.join(result_dir, 'model_accuracy.png'))\n",
        "    plt.show()\n",
        "    plt.close()\n",
        "\n",
        "    plt.plot(history.history['loss'], marker='.')\n",
        "    plt.plot(history.history['val_loss'], marker='.')\n",
        "    plt.title('model loss')\n",
        "    plt.xlabel('epoch')\n",
        "    plt.ylabel('loss')\n",
        "    plt.grid()\n",
        "    plt.legend(['loss', 'val_loss'], loc='upper right')\n",
        "    plt.savefig(os.path.join(result_dir, 'model_loss.png'))\n",
        "    plt.show()\n",
        "    plt.close()\n",
        "\n",
        "\n",
        "def save_history(history, result_dir):\n",
        "    loss = history.history['loss']\n",
        "    acc = history.history['accuracy']\n",
        "    val_loss = history.history['val_loss']\n",
        "    val_acc = history.history['val_accuracy']\n",
        "    nb_epoch = len(acc)\n",
        "\n",
        "    with open(os.path.join(result_dir, 'result.txt'), 'w') as fp:\n",
        "        fp.write('epoch\\tloss\\tacc\\tval_loss\\tval_acc\\n')\n",
        "        for i in range(nb_epoch):\n",
        "            fp.write('{}\\t{}\\t{}\\t{}\\t{}\\n'.format(\n",
        "                i, loss[i], acc[i], val_loss[i], val_acc[i]))"
      ],
      "metadata": {
        "id": "10T-Pg7qZWCA"
      },
      "execution_count": null,
      "outputs": []
    },
    {
      "cell_type": "code",
      "source": [
        "def loaddata(video_dir, vid3d, nclass, result_dir, color=False, skip=True):\n",
        "\n",
        "    files = os.listdir(video_dir)\n",
        "    X = []\n",
        "    labels = []\n",
        "    labellist = []\n",
        "\n",
        "    pbar = tqdm(total=len(files))\n",
        "\n",
        "    for filename in files:\n",
        "\n",
        "        pbar.update(1)\n",
        "\n",
        "        if filename == '.DS_Store':\n",
        "            continue\n",
        "\n",
        "        name = os.path.join(video_dir, filename)\n",
        "\n",
        "        for v_files in os.listdir(name):\n",
        "\n",
        "            v_file_path = os.path.join(name, v_files)\n",
        "\n",
        "            label = vid3d.get_UCF_classname(filename)\n",
        "\n",
        "            if label not in labellist:\n",
        "\n",
        "                if len(labellist) >= nclass:\n",
        "                    continue\n",
        "\n",
        "                labellist.append(label)\n",
        "\n",
        "            labels.append(label)\n",
        "\n",
        "            X.append(vid3d.video3d(v_file_path, color=color, skip=skip))\n",
        "\n",
        "    pbar.close()\n",
        "\n",
        "    with open(os.path.join(result_dir, 'classes.txt'), 'w') as fp:\n",
        "        for i in range(len(labellist)):\n",
        "            fp.write('{}\\n'.format(labellist[i]))\n",
        "\n",
        "    for num, label in enumerate(labellist):\n",
        "        for i in range(len(labels)):\n",
        "            if label == labels[i]:\n",
        "                labels[i] = num\n",
        "    if color:\n",
        "        return np.array(X).transpose((0, 2, 3, 4, 1)), labels\n",
        "    else:\n",
        "        return np.array(X).transpose((0, 2, 3, 1)), labels"
      ],
      "metadata": {
        "id": "4PdtbZ0KxwYN"
      },
      "execution_count": null,
      "outputs": []
    },
    {
      "cell_type": "code",
      "source": [
        "skip_arg = True\n",
        "depth_args = 10\n",
        "epoch_args = 100\n",
        "batch_args = 128"
      ],
      "metadata": {
        "id": "lUXbP7EOxxii"
      },
      "execution_count": null,
      "outputs": []
    },
    {
      "cell_type": "code",
      "source": [
        "img_rows, img_cols, frames = 32, 32, 10\n",
        "channel = 3"
      ],
      "metadata": {
        "id": "8CXrgpxHxxcu"
      },
      "execution_count": null,
      "outputs": []
    },
    {
      "cell_type": "code",
      "source": [
        "vid3d = Videoto3D(img_rows, img_cols, frames)"
      ],
      "metadata": {
        "id": "xLbhbMQGxxVA"
      },
      "execution_count": null,
      "outputs": []
    },
    {
      "cell_type": "code",
      "source": [
        "# Number of Classes for our model\n",
        "nb_classes = 101"
      ],
      "metadata": {
        "id": "7-a48xG6xxJL"
      },
      "execution_count": null,
      "outputs": []
    },
    {
      "cell_type": "code",
      "source": [
        "# Save dataset as a numpy format\n",
        "fname_npz = 'dataset_{}_{}_{}.npz'.format(\n",
        "        nb_classes , depth_args, skip_arg)"
      ],
      "metadata": {
        "id": "NTajNF7cy7KW"
      },
      "execution_count": null,
      "outputs": []
    },
    {
      "cell_type": "code",
      "source": [
        "x, y = loaddata('/content/drive/MyDrive/Colab Notebooks/dataset', vid3d, nb_classes, '/content/drive/MyDrive/Colab Notebooks/input_df', 3, True)\n"
      ],
      "metadata": {
        "id": "fl8p84ZXy7Ae"
      },
      "execution_count": null,
      "outputs": []
    },
    {
      "cell_type": "code",
      "source": [
        "X = x.reshape((x.shape[0],img_rows, img_cols, frames, channel))\n",
        "Y = np_utils.to_categorical(y, nb_classes)\n",
        "\n",
        "X = X.astype('float32')\n",
        "np.savez(fname_npz, X=X , Y=Y)\n",
        "print('Saved dataset to dataset.npz.')\n",
        "print('X_shape:{}\\nY_shape:{}'.format(X.shape, Y.shape))"
      ],
      "metadata": {
        "colab": {
          "base_uri": "https://localhost:8080/"
        },
        "id": "FOZ6CJkcy69x",
        "outputId": "af0cc10a-05ea-43c2-b301-d832fa9befe8"
      },
      "execution_count": null,
      "outputs": [
        {
          "output_type": "stream",
          "name": "stdout",
          "text": [
            "Saved dataset to dataset.npz.\n",
            "X_shape:(13336, 32, 32, 10, 3)\n",
            "Y_shape:(13336, 101)\n"
          ]
        }
      ]
    },
    {
      "cell_type": "code",
      "source": [
        "model = Sequential()\n",
        "model.add(Conv3D(32, kernel_size=(3, 3, 3), padding='same', input_shape=(X.shape[1:])))\n",
        "model.add(Activation('relu'))\n",
        "model.add(Conv3D(32, kernel_size=(3, 3, 3), padding='same'))\n",
        "model.add(Activation('softmax'))\n",
        "model.add(MaxPooling3D(pool_size=(3, 3, 3), padding='same'))\n",
        "model.add(Dropout(0.25))\n",
        "model.add(Conv3D(64, kernel_size=(3, 3, 3), padding='same'))\n",
        "model.add(Activation('relu'))\n",
        "model.add(Conv3D(64, kernel_size=(3, 3, 3), padding='same'))\n",
        "model.add(Activation('softmax'))\n",
        "model.add(MaxPooling3D(pool_size=(3, 3, 3), padding='same'))\n",
        "model.add(Dropout(0.25))\n",
        "model.add(Flatten())\n",
        "model.add(Dense(512, activation='sigmoid'))\n",
        "model.add(Dropout(0.5))\n",
        "model.add(Dense(nb_classes, activation='softmax'))\n",
        "\n",
        "model.compile(loss=categorical_crossentropy,\n",
        "              optimizer=Adam(), metrics=['accuracy'])\n",
        "model.summary()"
      ],
      "metadata": {
        "colab": {
          "base_uri": "https://localhost:8080/"
        },
        "id": "vpYYD65PAZpy",
        "outputId": "ca3fd5c6-1144-45be-ba2e-45d6012f1bd1"
      },
      "execution_count": null,
      "outputs": [
        {
          "output_type": "stream",
          "name": "stdout",
          "text": [
            "Model: \"sequential\"\n",
            "_________________________________________________________________\n",
            " Layer (type)                Output Shape              Param #   \n",
            "=================================================================\n",
            " conv3d (Conv3D)             (None, 32, 32, 10, 32)    2624      \n",
            "                                                                 \n",
            " activation (Activation)     (None, 32, 32, 10, 32)    0         \n",
            "                                                                 \n",
            " conv3d_1 (Conv3D)           (None, 32, 32, 10, 32)    27680     \n",
            "                                                                 \n",
            " activation_1 (Activation)   (None, 32, 32, 10, 32)    0         \n",
            "                                                                 \n",
            " max_pooling3d (MaxPooling3D  (None, 11, 11, 4, 32)    0         \n",
            " )                                                               \n",
            "                                                                 \n",
            " dropout (Dropout)           (None, 11, 11, 4, 32)     0         \n",
            "                                                                 \n",
            " conv3d_2 (Conv3D)           (None, 11, 11, 4, 64)     55360     \n",
            "                                                                 \n",
            " activation_2 (Activation)   (None, 11, 11, 4, 64)     0         \n",
            "                                                                 \n",
            " conv3d_3 (Conv3D)           (None, 11, 11, 4, 64)     110656    \n",
            "                                                                 \n",
            " activation_3 (Activation)   (None, 11, 11, 4, 64)     0         \n",
            "                                                                 \n",
            " max_pooling3d_1 (MaxPooling  (None, 4, 4, 2, 64)      0         \n",
            " 3D)                                                             \n",
            "                                                                 \n",
            " dropout_1 (Dropout)         (None, 4, 4, 2, 64)       0         \n",
            "                                                                 \n",
            " flatten (Flatten)           (None, 2048)              0         \n",
            "                                                                 \n",
            " dense (Dense)               (None, 512)               1049088   \n",
            "                                                                 \n",
            " dropout_2 (Dropout)         (None, 512)               0         \n",
            "                                                                 \n",
            " dense_1 (Dense)             (None, 101)               51813     \n",
            "                                                                 \n",
            "=================================================================\n",
            "Total params: 1,297,221\n",
            "Trainable params: 1,297,221\n",
            "Non-trainable params: 0\n",
            "_________________________________________________________________\n"
          ]
        }
      ]
    },
    {
      "cell_type": "code",
      "source": [
        "X_train, X_test, Y_train, Y_test = train_test_split(\n",
        "        X, Y, test_size=0.2, random_state=43)"
      ],
      "metadata": {
        "id": "gETrqOG2AZg3"
      },
      "execution_count": null,
      "outputs": []
    },
    {
      "cell_type": "code",
      "source": [
        "# 1\n",
        "# filepath : directory to save the model checkpoints (Checkpoints are saved as the format defined)\n",
        "filepath=\"/content/drive/MyDrive/Colab Notebooks/results/d_3dcnnmodel-{epoch:02d}-{val_accuracy:.2f}.hd5\"\n",
        "\n",
        "checkpoint = ModelCheckpoint(filepath, monitor='val_accuracy', verbose=1, save_best_only=True, mode='max')\n",
        "\n",
        "callbacks_list = [checkpoint]"
      ],
      "metadata": {
        "id": "uLK2Y1pmAZU3"
      },
      "execution_count": null,
      "outputs": []
    },
    {
      "cell_type": "code",
      "source": [],
      "metadata": {
        "id": "-pQWhbpcIQ9x"
      },
      "execution_count": null,
      "outputs": []
    },
    {
      "cell_type": "code",
      "source": [
        "history = model.fit(X_train, Y_train, validation_data=(X_test, Y_test), batch_size= batch_args,\n",
        "                        epochs= epoch_args , verbose=1, shuffle=True, callbacks=callbacks_list)\n",
        "\n",
        "model.evaluate(X_test, Y_test, verbose=0)\n",
        "\n",
        "model_json = model.to_json()"
      ],
      "metadata": {
        "colab": {
          "base_uri": "https://localhost:8080/"
        },
        "id": "01QVNYz2IYVs",
        "outputId": "8228e8d2-9e2a-4cde-cc7e-ad34e33b0fb6"
      },
      "execution_count": null,
      "outputs": [
        {
          "output_type": "stream",
          "name": "stdout",
          "text": [
            "Epoch 1/100\n",
            "84/84 [==============================] - ETA: 0s - loss: 4.6858 - accuracy: 0.0168\n",
            "Epoch 1: val_accuracy improved from -inf to 0.06372, saving model to /content/drive/MyDrive/Colab Notebooks/results/d_3dcnnmodel-01-0.06.hd5\n",
            "INFO:tensorflow:Assets written to: /content/drive/MyDrive/Colab Notebooks/results/d_3dcnnmodel-01-0.06.hd5/assets\n",
            "84/84 [==============================] - 30s 202ms/step - loss: 4.6858 - accuracy: 0.0168 - val_loss: 4.3935 - val_accuracy: 0.0637\n",
            "Epoch 2/100\n",
            "84/84 [==============================] - ETA: 0s - loss: 4.1969 - accuracy: 0.0710\n",
            "Epoch 2: val_accuracy improved from 0.06372 to 0.12369, saving model to /content/drive/MyDrive/Colab Notebooks/results/d_3dcnnmodel-02-0.12.hd5\n",
            "INFO:tensorflow:Assets written to: /content/drive/MyDrive/Colab Notebooks/results/d_3dcnnmodel-02-0.12.hd5/assets\n",
            "84/84 [==============================] - 15s 178ms/step - loss: 4.1969 - accuracy: 0.0710 - val_loss: 3.8193 - val_accuracy: 0.1237\n",
            "Epoch 3/100\n",
            "84/84 [==============================] - ETA: 0s - loss: 3.7043 - accuracy: 0.1297\n",
            "Epoch 3: val_accuracy improved from 0.12369 to 0.18478, saving model to /content/drive/MyDrive/Colab Notebooks/results/d_3dcnnmodel-03-0.18.hd5\n",
            "INFO:tensorflow:Assets written to: /content/drive/MyDrive/Colab Notebooks/results/d_3dcnnmodel-03-0.18.hd5/assets\n",
            "84/84 [==============================] - 15s 180ms/step - loss: 3.7043 - accuracy: 0.1297 - val_loss: 3.4312 - val_accuracy: 0.1848\n",
            "Epoch 4/100\n",
            "84/84 [==============================] - ETA: 0s - loss: 3.3694 - accuracy: 0.1807\n",
            "Epoch 4: val_accuracy improved from 0.18478 to 0.24250, saving model to /content/drive/MyDrive/Colab Notebooks/results/d_3dcnnmodel-04-0.24.hd5\n",
            "INFO:tensorflow:Assets written to: /content/drive/MyDrive/Colab Notebooks/results/d_3dcnnmodel-04-0.24.hd5/assets\n",
            "84/84 [==============================] - 15s 184ms/step - loss: 3.3694 - accuracy: 0.1807 - val_loss: 3.1504 - val_accuracy: 0.2425\n",
            "Epoch 5/100\n",
            "84/84 [==============================] - ETA: 0s - loss: 3.1088 - accuracy: 0.2368\n",
            "Epoch 5: val_accuracy improved from 0.24250 to 0.26537, saving model to /content/drive/MyDrive/Colab Notebooks/results/d_3dcnnmodel-05-0.27.hd5\n",
            "INFO:tensorflow:Assets written to: /content/drive/MyDrive/Colab Notebooks/results/d_3dcnnmodel-05-0.27.hd5/assets\n",
            "84/84 [==============================] - 15s 183ms/step - loss: 3.1088 - accuracy: 0.2368 - val_loss: 2.9265 - val_accuracy: 0.2654\n",
            "Epoch 6/100\n",
            "84/84 [==============================] - ETA: 0s - loss: 2.9177 - accuracy: 0.2669\n",
            "Epoch 6: val_accuracy improved from 0.26537 to 0.31372, saving model to /content/drive/MyDrive/Colab Notebooks/results/d_3dcnnmodel-06-0.31.hd5\n",
            "INFO:tensorflow:Assets written to: /content/drive/MyDrive/Colab Notebooks/results/d_3dcnnmodel-06-0.31.hd5/assets\n",
            "84/84 [==============================] - 15s 185ms/step - loss: 2.9177 - accuracy: 0.2669 - val_loss: 2.7362 - val_accuracy: 0.3137\n",
            "Epoch 7/100\n",
            "84/84 [==============================] - ETA: 0s - loss: 2.7260 - accuracy: 0.3101\n",
            "Epoch 7: val_accuracy improved from 0.31372 to 0.35907, saving model to /content/drive/MyDrive/Colab Notebooks/results/d_3dcnnmodel-07-0.36.hd5\n",
            "INFO:tensorflow:Assets written to: /content/drive/MyDrive/Colab Notebooks/results/d_3dcnnmodel-07-0.36.hd5/assets\n",
            "84/84 [==============================] - 16s 189ms/step - loss: 2.7260 - accuracy: 0.3101 - val_loss: 2.5575 - val_accuracy: 0.3591\n",
            "Epoch 8/100\n",
            "84/84 [==============================] - ETA: 0s - loss: 2.5776 - accuracy: 0.3498\n",
            "Epoch 8: val_accuracy improved from 0.35907 to 0.36357, saving model to /content/drive/MyDrive/Colab Notebooks/results/d_3dcnnmodel-08-0.36.hd5\n",
            "INFO:tensorflow:Assets written to: /content/drive/MyDrive/Colab Notebooks/results/d_3dcnnmodel-08-0.36.hd5/assets\n",
            "84/84 [==============================] - 17s 202ms/step - loss: 2.5776 - accuracy: 0.3498 - val_loss: 2.5189 - val_accuracy: 0.3636\n",
            "Epoch 9/100\n",
            "84/84 [==============================] - ETA: 0s - loss: 2.4553 - accuracy: 0.3657\n",
            "Epoch 9: val_accuracy improved from 0.36357 to 0.41567, saving model to /content/drive/MyDrive/Colab Notebooks/results/d_3dcnnmodel-09-0.42.hd5\n",
            "INFO:tensorflow:Assets written to: /content/drive/MyDrive/Colab Notebooks/results/d_3dcnnmodel-09-0.42.hd5/assets\n",
            "84/84 [==============================] - 16s 188ms/step - loss: 2.4553 - accuracy: 0.3657 - val_loss: 2.3202 - val_accuracy: 0.4157\n",
            "Epoch 10/100\n",
            "84/84 [==============================] - ETA: 0s - loss: 2.3213 - accuracy: 0.4019\n",
            "Epoch 10: val_accuracy improved from 0.41567 to 0.45840, saving model to /content/drive/MyDrive/Colab Notebooks/results/d_3dcnnmodel-10-0.46.hd5\n",
            "INFO:tensorflow:Assets written to: /content/drive/MyDrive/Colab Notebooks/results/d_3dcnnmodel-10-0.46.hd5/assets\n",
            "84/84 [==============================] - 16s 193ms/step - loss: 2.3213 - accuracy: 0.4019 - val_loss: 2.1682 - val_accuracy: 0.4584\n",
            "Epoch 11/100\n",
            "84/84 [==============================] - ETA: 0s - loss: 2.2276 - accuracy: 0.4223\n",
            "Epoch 11: val_accuracy improved from 0.45840 to 0.46064, saving model to /content/drive/MyDrive/Colab Notebooks/results/d_3dcnnmodel-11-0.46.hd5\n",
            "INFO:tensorflow:Assets written to: /content/drive/MyDrive/Colab Notebooks/results/d_3dcnnmodel-11-0.46.hd5/assets\n",
            "84/84 [==============================] - 16s 189ms/step - loss: 2.2276 - accuracy: 0.4223 - val_loss: 2.1229 - val_accuracy: 0.4606\n",
            "Epoch 12/100\n",
            "84/84 [==============================] - ETA: 0s - loss: 2.0966 - accuracy: 0.4583\n",
            "Epoch 12: val_accuracy improved from 0.46064 to 0.47789, saving model to /content/drive/MyDrive/Colab Notebooks/results/d_3dcnnmodel-12-0.48.hd5\n",
            "INFO:tensorflow:Assets written to: /content/drive/MyDrive/Colab Notebooks/results/d_3dcnnmodel-12-0.48.hd5/assets\n",
            "84/84 [==============================] - 16s 189ms/step - loss: 2.0966 - accuracy: 0.4583 - val_loss: 2.0557 - val_accuracy: 0.4779\n",
            "Epoch 13/100\n",
            "84/84 [==============================] - ETA: 0s - loss: 2.0123 - accuracy: 0.4664\n",
            "Epoch 13: val_accuracy improved from 0.47789 to 0.50075, saving model to /content/drive/MyDrive/Colab Notebooks/results/d_3dcnnmodel-13-0.50.hd5\n",
            "INFO:tensorflow:Assets written to: /content/drive/MyDrive/Colab Notebooks/results/d_3dcnnmodel-13-0.50.hd5/assets\n",
            "84/84 [==============================] - 16s 190ms/step - loss: 2.0123 - accuracy: 0.4664 - val_loss: 1.9486 - val_accuracy: 0.5007\n",
            "Epoch 14/100\n",
            "84/84 [==============================] - ETA: 0s - loss: 1.9280 - accuracy: 0.4947\n",
            "Epoch 14: val_accuracy improved from 0.50075 to 0.50562, saving model to /content/drive/MyDrive/Colab Notebooks/results/d_3dcnnmodel-14-0.51.hd5\n",
            "INFO:tensorflow:Assets written to: /content/drive/MyDrive/Colab Notebooks/results/d_3dcnnmodel-14-0.51.hd5/assets\n",
            "84/84 [==============================] - 16s 188ms/step - loss: 1.9280 - accuracy: 0.4947 - val_loss: 1.9262 - val_accuracy: 0.5056\n",
            "Epoch 15/100\n",
            "84/84 [==============================] - ETA: 0s - loss: 1.8401 - accuracy: 0.5107\n",
            "Epoch 15: val_accuracy improved from 0.50562 to 0.55472, saving model to /content/drive/MyDrive/Colab Notebooks/results/d_3dcnnmodel-15-0.55.hd5\n",
            "INFO:tensorflow:Assets written to: /content/drive/MyDrive/Colab Notebooks/results/d_3dcnnmodel-15-0.55.hd5/assets\n",
            "84/84 [==============================] - 16s 188ms/step - loss: 1.8401 - accuracy: 0.5107 - val_loss: 1.7794 - val_accuracy: 0.5547\n",
            "Epoch 16/100\n",
            "84/84 [==============================] - ETA: 0s - loss: 1.7826 - accuracy: 0.5286\n",
            "Epoch 16: val_accuracy did not improve from 0.55472\n",
            "84/84 [==============================] - 14s 173ms/step - loss: 1.7826 - accuracy: 0.5286 - val_loss: 1.7883 - val_accuracy: 0.5439\n",
            "Epoch 17/100\n",
            "84/84 [==============================] - ETA: 0s - loss: 1.7186 - accuracy: 0.5515\n",
            "Epoch 17: val_accuracy improved from 0.55472 to 0.56297, saving model to /content/drive/MyDrive/Colab Notebooks/results/d_3dcnnmodel-17-0.56.hd5\n",
            "INFO:tensorflow:Assets written to: /content/drive/MyDrive/Colab Notebooks/results/d_3dcnnmodel-17-0.56.hd5/assets\n",
            "84/84 [==============================] - 16s 191ms/step - loss: 1.7186 - accuracy: 0.5515 - val_loss: 1.7357 - val_accuracy: 0.5630\n",
            "Epoch 18/100\n",
            "84/84 [==============================] - ETA: 0s - loss: 1.6401 - accuracy: 0.5650\n",
            "Epoch 18: val_accuracy improved from 0.56297 to 0.57046, saving model to /content/drive/MyDrive/Colab Notebooks/results/d_3dcnnmodel-18-0.57.hd5\n",
            "INFO:tensorflow:Assets written to: /content/drive/MyDrive/Colab Notebooks/results/d_3dcnnmodel-18-0.57.hd5/assets\n",
            "84/84 [==============================] - 16s 189ms/step - loss: 1.6401 - accuracy: 0.5650 - val_loss: 1.6677 - val_accuracy: 0.5705\n",
            "Epoch 19/100\n",
            "84/84 [==============================] - ETA: 0s - loss: 1.5509 - accuracy: 0.5853\n",
            "Epoch 19: val_accuracy improved from 0.57046 to 0.59633, saving model to /content/drive/MyDrive/Colab Notebooks/results/d_3dcnnmodel-19-0.60.hd5\n",
            "INFO:tensorflow:Assets written to: /content/drive/MyDrive/Colab Notebooks/results/d_3dcnnmodel-19-0.60.hd5/assets\n",
            "84/84 [==============================] - 16s 190ms/step - loss: 1.5509 - accuracy: 0.5853 - val_loss: 1.5689 - val_accuracy: 0.5963\n",
            "Epoch 20/100\n",
            "84/84 [==============================] - ETA: 0s - loss: 1.4739 - accuracy: 0.6055\n",
            "Epoch 20: val_accuracy improved from 0.59633 to 0.59895, saving model to /content/drive/MyDrive/Colab Notebooks/results/d_3dcnnmodel-20-0.60.hd5\n",
            "INFO:tensorflow:Assets written to: /content/drive/MyDrive/Colab Notebooks/results/d_3dcnnmodel-20-0.60.hd5/assets\n",
            "84/84 [==============================] - 16s 188ms/step - loss: 1.4739 - accuracy: 0.6055 - val_loss: 1.5444 - val_accuracy: 0.5990\n",
            "Epoch 21/100\n",
            "84/84 [==============================] - ETA: 0s - loss: 1.4498 - accuracy: 0.6108\n",
            "Epoch 21: val_accuracy improved from 0.59895 to 0.62144, saving model to /content/drive/MyDrive/Colab Notebooks/results/d_3dcnnmodel-21-0.62.hd5\n",
            "INFO:tensorflow:Assets written to: /content/drive/MyDrive/Colab Notebooks/results/d_3dcnnmodel-21-0.62.hd5/assets\n",
            "84/84 [==============================] - 16s 188ms/step - loss: 1.4498 - accuracy: 0.6108 - val_loss: 1.4506 - val_accuracy: 0.6214\n",
            "Epoch 22/100\n",
            "84/84 [==============================] - ETA: 0s - loss: 1.3587 - accuracy: 0.6443\n",
            "Epoch 22: val_accuracy improved from 0.62144 to 0.64580, saving model to /content/drive/MyDrive/Colab Notebooks/results/d_3dcnnmodel-22-0.65.hd5\n",
            "INFO:tensorflow:Assets written to: /content/drive/MyDrive/Colab Notebooks/results/d_3dcnnmodel-22-0.65.hd5/assets\n",
            "84/84 [==============================] - 16s 191ms/step - loss: 1.3587 - accuracy: 0.6443 - val_loss: 1.3928 - val_accuracy: 0.6458\n",
            "Epoch 23/100\n",
            "84/84 [==============================] - ETA: 0s - loss: 1.3144 - accuracy: 0.6497\n",
            "Epoch 23: val_accuracy improved from 0.64580 to 0.65330, saving model to /content/drive/MyDrive/Colab Notebooks/results/d_3dcnnmodel-23-0.65.hd5\n",
            "INFO:tensorflow:Assets written to: /content/drive/MyDrive/Colab Notebooks/results/d_3dcnnmodel-23-0.65.hd5/assets\n",
            "84/84 [==============================] - 16s 190ms/step - loss: 1.3144 - accuracy: 0.6497 - val_loss: 1.3393 - val_accuracy: 0.6533\n",
            "Epoch 24/100\n",
            "84/84 [==============================] - ETA: 0s - loss: 1.2557 - accuracy: 0.6682\n",
            "Epoch 24: val_accuracy improved from 0.65330 to 0.66079, saving model to /content/drive/MyDrive/Colab Notebooks/results/d_3dcnnmodel-24-0.66.hd5\n",
            "INFO:tensorflow:Assets written to: /content/drive/MyDrive/Colab Notebooks/results/d_3dcnnmodel-24-0.66.hd5/assets\n",
            "84/84 [==============================] - 16s 189ms/step - loss: 1.2557 - accuracy: 0.6682 - val_loss: 1.2923 - val_accuracy: 0.6608\n",
            "Epoch 25/100\n",
            "84/84 [==============================] - ETA: 0s - loss: 1.2316 - accuracy: 0.6692\n",
            "Epoch 25: val_accuracy improved from 0.66079 to 0.66454, saving model to /content/drive/MyDrive/Colab Notebooks/results/d_3dcnnmodel-25-0.66.hd5\n",
            "INFO:tensorflow:Assets written to: /content/drive/MyDrive/Colab Notebooks/results/d_3dcnnmodel-25-0.66.hd5/assets\n",
            "84/84 [==============================] - 16s 191ms/step - loss: 1.2316 - accuracy: 0.6692 - val_loss: 1.2834 - val_accuracy: 0.6645\n",
            "Epoch 26/100\n",
            "84/84 [==============================] - ETA: 0s - loss: 1.1799 - accuracy: 0.6824\n",
            "Epoch 26: val_accuracy improved from 0.66454 to 0.68141, saving model to /content/drive/MyDrive/Colab Notebooks/results/d_3dcnnmodel-26-0.68.hd5\n",
            "INFO:tensorflow:Assets written to: /content/drive/MyDrive/Colab Notebooks/results/d_3dcnnmodel-26-0.68.hd5/assets\n",
            "84/84 [==============================] - 16s 189ms/step - loss: 1.1799 - accuracy: 0.6824 - val_loss: 1.2508 - val_accuracy: 0.6814\n",
            "Epoch 27/100\n",
            "84/84 [==============================] - ETA: 0s - loss: 1.1414 - accuracy: 0.6957\n",
            "Epoch 27: val_accuracy did not improve from 0.68141\n",
            "84/84 [==============================] - 15s 174ms/step - loss: 1.1414 - accuracy: 0.6957 - val_loss: 1.2651 - val_accuracy: 0.6623\n",
            "Epoch 28/100\n",
            "84/84 [==============================] - ETA: 0s - loss: 1.1293 - accuracy: 0.6916\n",
            "Epoch 28: val_accuracy improved from 0.68141 to 0.69078, saving model to /content/drive/MyDrive/Colab Notebooks/results/d_3dcnnmodel-28-0.69.hd5\n",
            "INFO:tensorflow:Assets written to: /content/drive/MyDrive/Colab Notebooks/results/d_3dcnnmodel-28-0.69.hd5/assets\n",
            "84/84 [==============================] - 16s 189ms/step - loss: 1.1293 - accuracy: 0.6916 - val_loss: 1.1944 - val_accuracy: 0.6908\n",
            "Epoch 29/100\n",
            "84/84 [==============================] - ETA: 0s - loss: 1.0674 - accuracy: 0.7088\n",
            "Epoch 29: val_accuracy did not improve from 0.69078\n",
            "84/84 [==============================] - 14s 172ms/step - loss: 1.0674 - accuracy: 0.7088 - val_loss: 1.2011 - val_accuracy: 0.6833\n",
            "Epoch 30/100\n",
            "84/84 [==============================] - ETA: 0s - loss: 1.0495 - accuracy: 0.7154\n",
            "Epoch 30: val_accuracy improved from 0.69078 to 0.70577, saving model to /content/drive/MyDrive/Colab Notebooks/results/d_3dcnnmodel-30-0.71.hd5\n",
            "INFO:tensorflow:Assets written to: /content/drive/MyDrive/Colab Notebooks/results/d_3dcnnmodel-30-0.71.hd5/assets\n",
            "84/84 [==============================] - 16s 191ms/step - loss: 1.0495 - accuracy: 0.7154 - val_loss: 1.1422 - val_accuracy: 0.7058\n",
            "Epoch 31/100\n",
            "84/84 [==============================] - ETA: 0s - loss: 0.9804 - accuracy: 0.7373\n",
            "Epoch 31: val_accuracy improved from 0.70577 to 0.71777, saving model to /content/drive/MyDrive/Colab Notebooks/results/d_3dcnnmodel-31-0.72.hd5\n",
            "INFO:tensorflow:Assets written to: /content/drive/MyDrive/Colab Notebooks/results/d_3dcnnmodel-31-0.72.hd5/assets\n",
            "84/84 [==============================] - 16s 189ms/step - loss: 0.9804 - accuracy: 0.7373 - val_loss: 1.0968 - val_accuracy: 0.7178\n",
            "Epoch 32/100\n",
            "84/84 [==============================] - ETA: 0s - loss: 0.9727 - accuracy: 0.7371\n",
            "Epoch 32: val_accuracy improved from 0.71777 to 0.73276, saving model to /content/drive/MyDrive/Colab Notebooks/results/d_3dcnnmodel-32-0.73.hd5\n",
            "INFO:tensorflow:Assets written to: /content/drive/MyDrive/Colab Notebooks/results/d_3dcnnmodel-32-0.73.hd5/assets\n",
            "84/84 [==============================] - 16s 188ms/step - loss: 0.9727 - accuracy: 0.7371 - val_loss: 1.0647 - val_accuracy: 0.7328\n",
            "Epoch 33/100\n",
            "84/84 [==============================] - ETA: 0s - loss: 0.9092 - accuracy: 0.7539\n",
            "Epoch 33: val_accuracy did not improve from 0.73276\n",
            "84/84 [==============================] - 14s 172ms/step - loss: 0.9092 - accuracy: 0.7539 - val_loss: 1.0650 - val_accuracy: 0.7253\n",
            "Epoch 34/100\n",
            "84/84 [==============================] - ETA: 0s - loss: 0.9311 - accuracy: 0.7471\n",
            "Epoch 34: val_accuracy did not improve from 0.73276\n",
            "84/84 [==============================] - 14s 172ms/step - loss: 0.9311 - accuracy: 0.7471 - val_loss: 1.0687 - val_accuracy: 0.7185\n",
            "Epoch 35/100\n",
            "84/84 [==============================] - ETA: 0s - loss: 0.8652 - accuracy: 0.7631\n",
            "Epoch 35: val_accuracy improved from 0.73276 to 0.73951, saving model to /content/drive/MyDrive/Colab Notebooks/results/d_3dcnnmodel-35-0.74.hd5\n",
            "INFO:tensorflow:Assets written to: /content/drive/MyDrive/Colab Notebooks/results/d_3dcnnmodel-35-0.74.hd5/assets\n",
            "84/84 [==============================] - 16s 191ms/step - loss: 0.8652 - accuracy: 0.7631 - val_loss: 0.9997 - val_accuracy: 0.7395\n",
            "Epoch 36/100\n",
            "84/84 [==============================] - ETA: 0s - loss: 0.8124 - accuracy: 0.7776\n",
            "Epoch 36: val_accuracy improved from 0.73951 to 0.75225, saving model to /content/drive/MyDrive/Colab Notebooks/results/d_3dcnnmodel-36-0.75.hd5\n",
            "INFO:tensorflow:Assets written to: /content/drive/MyDrive/Colab Notebooks/results/d_3dcnnmodel-36-0.75.hd5/assets\n",
            "84/84 [==============================] - 17s 207ms/step - loss: 0.8124 - accuracy: 0.7776 - val_loss: 0.9883 - val_accuracy: 0.7522\n",
            "Epoch 37/100\n",
            "84/84 [==============================] - ETA: 0s - loss: 0.8120 - accuracy: 0.7778\n",
            "Epoch 37: val_accuracy did not improve from 0.75225\n",
            "84/84 [==============================] - 15s 172ms/step - loss: 0.8120 - accuracy: 0.7778 - val_loss: 0.9701 - val_accuracy: 0.7470\n",
            "Epoch 38/100\n",
            "84/84 [==============================] - ETA: 0s - loss: 0.7904 - accuracy: 0.7776\n",
            "Epoch 38: val_accuracy did not improve from 0.75225\n",
            "84/84 [==============================] - 14s 172ms/step - loss: 0.7904 - accuracy: 0.7776 - val_loss: 0.9446 - val_accuracy: 0.7500\n",
            "Epoch 39/100\n",
            "84/84 [==============================] - ETA: 0s - loss: 0.7581 - accuracy: 0.7938\n",
            "Epoch 39: val_accuracy did not improve from 0.75225\n",
            "84/84 [==============================] - 14s 173ms/step - loss: 0.7581 - accuracy: 0.7938 - val_loss: 0.9694 - val_accuracy: 0.7414\n",
            "Epoch 40/100\n",
            "84/84 [==============================] - ETA: 0s - loss: 0.7583 - accuracy: 0.7874\n",
            "Epoch 40: val_accuracy improved from 0.75225 to 0.75937, saving model to /content/drive/MyDrive/Colab Notebooks/results/d_3dcnnmodel-40-0.76.hd5\n",
            "INFO:tensorflow:Assets written to: /content/drive/MyDrive/Colab Notebooks/results/d_3dcnnmodel-40-0.76.hd5/assets\n",
            "84/84 [==============================] - 16s 189ms/step - loss: 0.7583 - accuracy: 0.7874 - val_loss: 0.9011 - val_accuracy: 0.7594\n",
            "Epoch 41/100\n",
            "84/84 [==============================] - ETA: 0s - loss: 0.7360 - accuracy: 0.7955\n",
            "Epoch 41: val_accuracy did not improve from 0.75937\n",
            "84/84 [==============================] - 14s 172ms/step - loss: 0.7360 - accuracy: 0.7955 - val_loss: 0.9186 - val_accuracy: 0.7590\n",
            "Epoch 42/100\n",
            "84/84 [==============================] - ETA: 0s - loss: 0.6995 - accuracy: 0.8066\n",
            "Epoch 42: val_accuracy did not improve from 0.75937\n",
            "84/84 [==============================] - 14s 172ms/step - loss: 0.6995 - accuracy: 0.8066 - val_loss: 0.9121 - val_accuracy: 0.7582\n",
            "Epoch 43/100\n",
            "84/84 [==============================] - ETA: 0s - loss: 0.6893 - accuracy: 0.8069\n",
            "Epoch 43: val_accuracy did not improve from 0.75937\n",
            "84/84 [==============================] - 14s 172ms/step - loss: 0.6893 - accuracy: 0.8069 - val_loss: 0.9749 - val_accuracy: 0.7421\n",
            "Epoch 44/100\n",
            "84/84 [==============================] - ETA: 0s - loss: 0.6821 - accuracy: 0.8121\n",
            "Epoch 44: val_accuracy improved from 0.75937 to 0.77099, saving model to /content/drive/MyDrive/Colab Notebooks/results/d_3dcnnmodel-44-0.77.hd5\n",
            "INFO:tensorflow:Assets written to: /content/drive/MyDrive/Colab Notebooks/results/d_3dcnnmodel-44-0.77.hd5/assets\n",
            "84/84 [==============================] - 17s 199ms/step - loss: 0.6821 - accuracy: 0.8121 - val_loss: 0.8692 - val_accuracy: 0.7710\n",
            "Epoch 45/100\n",
            "84/84 [==============================] - ETA: 0s - loss: 0.6546 - accuracy: 0.8179\n",
            "Epoch 45: val_accuracy improved from 0.77099 to 0.77286, saving model to /content/drive/MyDrive/Colab Notebooks/results/d_3dcnnmodel-45-0.77.hd5\n",
            "INFO:tensorflow:Assets written to: /content/drive/MyDrive/Colab Notebooks/results/d_3dcnnmodel-45-0.77.hd5/assets\n",
            "84/84 [==============================] - 16s 189ms/step - loss: 0.6546 - accuracy: 0.8179 - val_loss: 0.8716 - val_accuracy: 0.7729\n",
            "Epoch 46/100\n",
            "84/84 [==============================] - ETA: 0s - loss: 0.6432 - accuracy: 0.8196\n",
            "Epoch 46: val_accuracy improved from 0.77286 to 0.77886, saving model to /content/drive/MyDrive/Colab Notebooks/results/d_3dcnnmodel-46-0.78.hd5\n",
            "INFO:tensorflow:Assets written to: /content/drive/MyDrive/Colab Notebooks/results/d_3dcnnmodel-46-0.78.hd5/assets\n",
            "84/84 [==============================] - 16s 189ms/step - loss: 0.6432 - accuracy: 0.8196 - val_loss: 0.8503 - val_accuracy: 0.7789\n",
            "Epoch 47/100\n",
            "84/84 [==============================] - ETA: 0s - loss: 0.6013 - accuracy: 0.8306\n",
            "Epoch 47: val_accuracy improved from 0.77886 to 0.78673, saving model to /content/drive/MyDrive/Colab Notebooks/results/d_3dcnnmodel-47-0.79.hd5\n",
            "INFO:tensorflow:Assets written to: /content/drive/MyDrive/Colab Notebooks/results/d_3dcnnmodel-47-0.79.hd5/assets\n",
            "84/84 [==============================] - 16s 191ms/step - loss: 0.6013 - accuracy: 0.8306 - val_loss: 0.8190 - val_accuracy: 0.7867\n",
            "Epoch 48/100\n",
            "84/84 [==============================] - ETA: 0s - loss: 0.6024 - accuracy: 0.8343\n",
            "Epoch 48: val_accuracy did not improve from 0.78673\n",
            "84/84 [==============================] - 14s 172ms/step - loss: 0.6024 - accuracy: 0.8343 - val_loss: 0.8238 - val_accuracy: 0.7777\n",
            "Epoch 49/100\n",
            "84/84 [==============================] - ETA: 0s - loss: 0.5852 - accuracy: 0.8377\n",
            "Epoch 49: val_accuracy improved from 0.78673 to 0.78823, saving model to /content/drive/MyDrive/Colab Notebooks/results/d_3dcnnmodel-49-0.79.hd5\n",
            "INFO:tensorflow:Assets written to: /content/drive/MyDrive/Colab Notebooks/results/d_3dcnnmodel-49-0.79.hd5/assets\n",
            "84/84 [==============================] - 17s 204ms/step - loss: 0.5852 - accuracy: 0.8377 - val_loss: 0.8184 - val_accuracy: 0.7882\n",
            "Epoch 50/100\n",
            "84/84 [==============================] - ETA: 0s - loss: 0.5616 - accuracy: 0.8454\n",
            "Epoch 50: val_accuracy did not improve from 0.78823\n",
            "84/84 [==============================] - 14s 172ms/step - loss: 0.5616 - accuracy: 0.8454 - val_loss: 0.8485 - val_accuracy: 0.7702\n",
            "Epoch 51/100\n",
            "84/84 [==============================] - ETA: 0s - loss: 0.5580 - accuracy: 0.8441\n",
            "Epoch 51: val_accuracy did not improve from 0.78823\n",
            "84/84 [==============================] - 14s 172ms/step - loss: 0.5580 - accuracy: 0.8441 - val_loss: 0.7957 - val_accuracy: 0.7830\n",
            "Epoch 52/100\n",
            "84/84 [==============================] - ETA: 0s - loss: 0.5259 - accuracy: 0.8536\n",
            "Epoch 52: val_accuracy improved from 0.78823 to 0.78861, saving model to /content/drive/MyDrive/Colab Notebooks/results/d_3dcnnmodel-52-0.79.hd5\n",
            "INFO:tensorflow:Assets written to: /content/drive/MyDrive/Colab Notebooks/results/d_3dcnnmodel-52-0.79.hd5/assets\n",
            "84/84 [==============================] - 16s 190ms/step - loss: 0.5259 - accuracy: 0.8536 - val_loss: 0.8047 - val_accuracy: 0.7886\n",
            "Epoch 53/100\n",
            "84/84 [==============================] - ETA: 0s - loss: 0.5239 - accuracy: 0.8510\n",
            "Epoch 53: val_accuracy improved from 0.78861 to 0.79160, saving model to /content/drive/MyDrive/Colab Notebooks/results/d_3dcnnmodel-53-0.79.hd5\n",
            "INFO:tensorflow:Assets written to: /content/drive/MyDrive/Colab Notebooks/results/d_3dcnnmodel-53-0.79.hd5/assets\n",
            "84/84 [==============================] - 16s 192ms/step - loss: 0.5239 - accuracy: 0.8510 - val_loss: 0.7798 - val_accuracy: 0.7916\n",
            "Epoch 54/100\n",
            "84/84 [==============================] - ETA: 0s - loss: 0.5202 - accuracy: 0.8550\n",
            "Epoch 54: val_accuracy did not improve from 0.79160\n",
            "84/84 [==============================] - 14s 172ms/step - loss: 0.5202 - accuracy: 0.8550 - val_loss: 0.7879 - val_accuracy: 0.7901\n",
            "Epoch 55/100\n",
            "84/84 [==============================] - ETA: 0s - loss: 0.5239 - accuracy: 0.8526\n",
            "Epoch 55: val_accuracy did not improve from 0.79160\n",
            "84/84 [==============================] - 14s 172ms/step - loss: 0.5239 - accuracy: 0.8526 - val_loss: 0.8385 - val_accuracy: 0.7744\n",
            "Epoch 56/100\n",
            "84/84 [==============================] - ETA: 0s - loss: 0.5306 - accuracy: 0.8488\n",
            "Epoch 56: val_accuracy did not improve from 0.79160\n",
            "84/84 [==============================] - 14s 172ms/step - loss: 0.5306 - accuracy: 0.8488 - val_loss: 0.7658 - val_accuracy: 0.7909\n",
            "Epoch 57/100\n",
            "84/84 [==============================] - ETA: 0s - loss: 0.4798 - accuracy: 0.8663\n",
            "Epoch 57: val_accuracy improved from 0.79160 to 0.79273, saving model to /content/drive/MyDrive/Colab Notebooks/results/d_3dcnnmodel-57-0.79.hd5\n",
            "INFO:tensorflow:Assets written to: /content/drive/MyDrive/Colab Notebooks/results/d_3dcnnmodel-57-0.79.hd5/assets\n",
            "84/84 [==============================] - 16s 188ms/step - loss: 0.4798 - accuracy: 0.8663 - val_loss: 0.7738 - val_accuracy: 0.7927\n",
            "Epoch 58/100\n",
            "84/84 [==============================] - ETA: 0s - loss: 0.4600 - accuracy: 0.8706\n",
            "Epoch 58: val_accuracy did not improve from 0.79273\n",
            "84/84 [==============================] - 14s 172ms/step - loss: 0.4600 - accuracy: 0.8706 - val_loss: 0.7771 - val_accuracy: 0.7916\n",
            "Epoch 59/100\n",
            "84/84 [==============================] - ETA: 0s - loss: 0.4581 - accuracy: 0.8691\n",
            "Epoch 59: val_accuracy improved from 0.79273 to 0.79348, saving model to /content/drive/MyDrive/Colab Notebooks/results/d_3dcnnmodel-59-0.79.hd5\n",
            "INFO:tensorflow:Assets written to: /content/drive/MyDrive/Colab Notebooks/results/d_3dcnnmodel-59-0.79.hd5/assets\n",
            "84/84 [==============================] - 16s 189ms/step - loss: 0.4581 - accuracy: 0.8691 - val_loss: 0.7671 - val_accuracy: 0.7935\n",
            "Epoch 60/100\n",
            "84/84 [==============================] - ETA: 0s - loss: 0.4607 - accuracy: 0.8664\n",
            "Epoch 60: val_accuracy improved from 0.79348 to 0.80135, saving model to /content/drive/MyDrive/Colab Notebooks/results/d_3dcnnmodel-60-0.80.hd5\n",
            "INFO:tensorflow:Assets written to: /content/drive/MyDrive/Colab Notebooks/results/d_3dcnnmodel-60-0.80.hd5/assets\n",
            "84/84 [==============================] - 16s 191ms/step - loss: 0.4607 - accuracy: 0.8664 - val_loss: 0.7453 - val_accuracy: 0.8013\n",
            "Epoch 61/100\n",
            "84/84 [==============================] - ETA: 0s - loss: 0.4342 - accuracy: 0.8779\n",
            "Epoch 61: val_accuracy improved from 0.80135 to 0.80210, saving model to /content/drive/MyDrive/Colab Notebooks/results/d_3dcnnmodel-61-0.80.hd5\n",
            "INFO:tensorflow:Assets written to: /content/drive/MyDrive/Colab Notebooks/results/d_3dcnnmodel-61-0.80.hd5/assets\n",
            "84/84 [==============================] - 16s 188ms/step - loss: 0.4342 - accuracy: 0.8779 - val_loss: 0.7498 - val_accuracy: 0.8021\n",
            "Epoch 62/100\n",
            "84/84 [==============================] - ETA: 0s - loss: 0.4259 - accuracy: 0.8819\n",
            "Epoch 62: val_accuracy did not improve from 0.80210\n",
            "84/84 [==============================] - 15s 173ms/step - loss: 0.4259 - accuracy: 0.8819 - val_loss: 0.7551 - val_accuracy: 0.8021\n",
            "Epoch 63/100\n",
            "84/84 [==============================] - ETA: 0s - loss: 0.4200 - accuracy: 0.8789\n",
            "Epoch 63: val_accuracy did not improve from 0.80210\n",
            "84/84 [==============================] - 14s 172ms/step - loss: 0.4200 - accuracy: 0.8789 - val_loss: 0.7382 - val_accuracy: 0.8021\n",
            "Epoch 64/100\n",
            "84/84 [==============================] - ETA: 0s - loss: 0.4120 - accuracy: 0.8838\n",
            "Epoch 64: val_accuracy improved from 0.80210 to 0.80360, saving model to /content/drive/MyDrive/Colab Notebooks/results/d_3dcnnmodel-64-0.80.hd5\n",
            "INFO:tensorflow:Assets written to: /content/drive/MyDrive/Colab Notebooks/results/d_3dcnnmodel-64-0.80.hd5/assets\n",
            "84/84 [==============================] - 16s 189ms/step - loss: 0.4120 - accuracy: 0.8838 - val_loss: 0.7282 - val_accuracy: 0.8036\n",
            "Epoch 65/100\n",
            "84/84 [==============================] - ETA: 0s - loss: 0.4354 - accuracy: 0.8737\n",
            "Epoch 65: val_accuracy did not improve from 0.80360\n",
            "84/84 [==============================] - 14s 172ms/step - loss: 0.4354 - accuracy: 0.8737 - val_loss: 0.7315 - val_accuracy: 0.8032\n",
            "Epoch 66/100\n",
            "84/84 [==============================] - ETA: 0s - loss: 0.3851 - accuracy: 0.8895\n",
            "Epoch 66: val_accuracy improved from 0.80360 to 0.81297, saving model to /content/drive/MyDrive/Colab Notebooks/results/d_3dcnnmodel-66-0.81.hd5\n",
            "INFO:tensorflow:Assets written to: /content/drive/MyDrive/Colab Notebooks/results/d_3dcnnmodel-66-0.81.hd5/assets\n",
            "84/84 [==============================] - 16s 188ms/step - loss: 0.3851 - accuracy: 0.8895 - val_loss: 0.7110 - val_accuracy: 0.8130\n",
            "Epoch 67/100\n",
            "84/84 [==============================] - ETA: 0s - loss: 0.3855 - accuracy: 0.8897\n",
            "Epoch 67: val_accuracy did not improve from 0.81297\n",
            "84/84 [==============================] - 14s 172ms/step - loss: 0.3855 - accuracy: 0.8897 - val_loss: 0.7120 - val_accuracy: 0.8088\n",
            "Epoch 68/100\n",
            "84/84 [==============================] - ETA: 0s - loss: 0.3710 - accuracy: 0.8958\n",
            "Epoch 68: val_accuracy improved from 0.81297 to 0.81747, saving model to /content/drive/MyDrive/Colab Notebooks/results/d_3dcnnmodel-68-0.82.hd5\n",
            "INFO:tensorflow:Assets written to: /content/drive/MyDrive/Colab Notebooks/results/d_3dcnnmodel-68-0.82.hd5/assets\n",
            "84/84 [==============================] - 16s 191ms/step - loss: 0.3710 - accuracy: 0.8958 - val_loss: 0.7128 - val_accuracy: 0.8175\n",
            "Epoch 69/100\n",
            "84/84 [==============================] - ETA: 0s - loss: 0.3812 - accuracy: 0.8887\n",
            "Epoch 69: val_accuracy did not improve from 0.81747\n",
            "84/84 [==============================] - 14s 172ms/step - loss: 0.3812 - accuracy: 0.8887 - val_loss: 0.7312 - val_accuracy: 0.8100\n",
            "Epoch 70/100\n",
            "84/84 [==============================] - ETA: 0s - loss: 0.3575 - accuracy: 0.8986\n",
            "Epoch 70: val_accuracy did not improve from 0.81747\n",
            "84/84 [==============================] - 14s 172ms/step - loss: 0.3575 - accuracy: 0.8986 - val_loss: 0.6824 - val_accuracy: 0.8126\n",
            "Epoch 71/100\n",
            "84/84 [==============================] - ETA: 0s - loss: 0.3567 - accuracy: 0.8999\n",
            "Epoch 71: val_accuracy did not improve from 0.81747\n",
            "84/84 [==============================] - 15s 173ms/step - loss: 0.3567 - accuracy: 0.8999 - val_loss: 0.7047 - val_accuracy: 0.8081\n",
            "Epoch 72/100\n",
            "84/84 [==============================] - ETA: 0s - loss: 0.3533 - accuracy: 0.9003\n",
            "Epoch 72: val_accuracy did not improve from 0.81747\n",
            "84/84 [==============================] - 14s 172ms/step - loss: 0.3533 - accuracy: 0.9003 - val_loss: 0.7332 - val_accuracy: 0.8025\n",
            "Epoch 73/100\n",
            "84/84 [==============================] - ETA: 0s - loss: 0.3262 - accuracy: 0.9073\n",
            "Epoch 73: val_accuracy improved from 0.81747 to 0.82009, saving model to /content/drive/MyDrive/Colab Notebooks/results/d_3dcnnmodel-73-0.82.hd5\n",
            "INFO:tensorflow:Assets written to: /content/drive/MyDrive/Colab Notebooks/results/d_3dcnnmodel-73-0.82.hd5/assets\n",
            "84/84 [==============================] - 16s 188ms/step - loss: 0.3262 - accuracy: 0.9073 - val_loss: 0.6797 - val_accuracy: 0.8201\n",
            "Epoch 74/100\n",
            "84/84 [==============================] - ETA: 0s - loss: 0.3068 - accuracy: 0.9141\n",
            "Epoch 74: val_accuracy did not improve from 0.82009\n",
            "84/84 [==============================] - 14s 172ms/step - loss: 0.3068 - accuracy: 0.9141 - val_loss: 0.6978 - val_accuracy: 0.8171\n",
            "Epoch 75/100\n",
            "84/84 [==============================] - ETA: 0s - loss: 0.3311 - accuracy: 0.9052\n",
            "Epoch 75: val_accuracy did not improve from 0.82009\n",
            "84/84 [==============================] - 14s 172ms/step - loss: 0.3311 - accuracy: 0.9052 - val_loss: 0.7085 - val_accuracy: 0.8145\n",
            "Epoch 76/100\n",
            "84/84 [==============================] - ETA: 0s - loss: 0.3039 - accuracy: 0.9103\n",
            "Epoch 76: val_accuracy did not improve from 0.82009\n",
            "84/84 [==============================] - 14s 172ms/step - loss: 0.3039 - accuracy: 0.9103 - val_loss: 0.7134 - val_accuracy: 0.8122\n",
            "Epoch 77/100\n",
            "84/84 [==============================] - ETA: 0s - loss: 0.3090 - accuracy: 0.9102\n",
            "Epoch 77: val_accuracy did not improve from 0.82009\n",
            "84/84 [==============================] - 14s 172ms/step - loss: 0.3090 - accuracy: 0.9102 - val_loss: 0.7034 - val_accuracy: 0.8160\n",
            "Epoch 78/100\n",
            "84/84 [==============================] - ETA: 0s - loss: 0.3056 - accuracy: 0.9097\n",
            "Epoch 78: val_accuracy did not improve from 0.82009\n",
            "84/84 [==============================] - 14s 172ms/step - loss: 0.3056 - accuracy: 0.9097 - val_loss: 0.7190 - val_accuracy: 0.8096\n",
            "Epoch 79/100\n",
            "84/84 [==============================] - ETA: 0s - loss: 0.3083 - accuracy: 0.9097\n",
            "Epoch 79: val_accuracy improved from 0.82009 to 0.82684, saving model to /content/drive/MyDrive/Colab Notebooks/results/d_3dcnnmodel-79-0.83.hd5\n",
            "INFO:tensorflow:Assets written to: /content/drive/MyDrive/Colab Notebooks/results/d_3dcnnmodel-79-0.83.hd5/assets\n",
            "84/84 [==============================] - 16s 191ms/step - loss: 0.3083 - accuracy: 0.9097 - val_loss: 0.6562 - val_accuracy: 0.8268\n",
            "Epoch 80/100\n",
            "84/84 [==============================] - ETA: 0s - loss: 0.2949 - accuracy: 0.9134\n",
            "Epoch 80: val_accuracy did not improve from 0.82684\n",
            "84/84 [==============================] - 14s 172ms/step - loss: 0.2949 - accuracy: 0.9134 - val_loss: 0.7211 - val_accuracy: 0.8115\n",
            "Epoch 81/100\n",
            "84/84 [==============================] - ETA: 0s - loss: 0.2878 - accuracy: 0.9179\n",
            "Epoch 81: val_accuracy improved from 0.82684 to 0.82946, saving model to /content/drive/MyDrive/Colab Notebooks/results/d_3dcnnmodel-81-0.83.hd5\n",
            "INFO:tensorflow:Assets written to: /content/drive/MyDrive/Colab Notebooks/results/d_3dcnnmodel-81-0.83.hd5/assets\n",
            "84/84 [==============================] - 16s 189ms/step - loss: 0.2878 - accuracy: 0.9179 - val_loss: 0.6656 - val_accuracy: 0.8295\n",
            "Epoch 82/100\n",
            "84/84 [==============================] - ETA: 0s - loss: 0.2632 - accuracy: 0.9233\n",
            "Epoch 82: val_accuracy did not improve from 0.82946\n",
            "84/84 [==============================] - 14s 172ms/step - loss: 0.2632 - accuracy: 0.9233 - val_loss: 0.6576 - val_accuracy: 0.8238\n",
            "Epoch 83/100\n",
            "84/84 [==============================] - ETA: 0s - loss: 0.2846 - accuracy: 0.9165\n",
            "Epoch 83: val_accuracy did not improve from 0.82946\n",
            "84/84 [==============================] - 14s 172ms/step - loss: 0.2846 - accuracy: 0.9165 - val_loss: 0.6434 - val_accuracy: 0.8246\n",
            "Epoch 84/100\n",
            "84/84 [==============================] - ETA: 0s - loss: 0.2726 - accuracy: 0.9230\n",
            "Epoch 84: val_accuracy did not improve from 0.82946\n",
            "84/84 [==============================] - 14s 172ms/step - loss: 0.2726 - accuracy: 0.9230 - val_loss: 0.6590 - val_accuracy: 0.8283\n",
            "Epoch 85/100\n",
            "84/84 [==============================] - ETA: 0s - loss: 0.2604 - accuracy: 0.9246\n",
            "Epoch 85: val_accuracy did not improve from 0.82946\n",
            "84/84 [==============================] - 14s 171ms/step - loss: 0.2604 - accuracy: 0.9246 - val_loss: 0.6617 - val_accuracy: 0.8268\n",
            "Epoch 86/100\n",
            "84/84 [==============================] - ETA: 0s - loss: 0.2482 - accuracy: 0.9303\n",
            "Epoch 86: val_accuracy did not improve from 0.82946\n",
            "84/84 [==============================] - 14s 172ms/step - loss: 0.2482 - accuracy: 0.9303 - val_loss: 0.7024 - val_accuracy: 0.8197\n",
            "Epoch 87/100\n",
            "84/84 [==============================] - ETA: 0s - loss: 0.2951 - accuracy: 0.9128\n",
            "Epoch 87: val_accuracy did not improve from 0.82946\n",
            "84/84 [==============================] - 14s 172ms/step - loss: 0.2951 - accuracy: 0.9128 - val_loss: 0.6488 - val_accuracy: 0.8272\n",
            "Epoch 88/100\n",
            "84/84 [==============================] - ETA: 0s - loss: 0.2455 - accuracy: 0.9313\n",
            "Epoch 88: val_accuracy did not improve from 0.82946\n",
            "84/84 [==============================] - 14s 171ms/step - loss: 0.2455 - accuracy: 0.9313 - val_loss: 0.6797 - val_accuracy: 0.8205\n",
            "Epoch 89/100\n",
            "84/84 [==============================] - ETA: 0s - loss: 0.2379 - accuracy: 0.9329\n",
            "Epoch 89: val_accuracy improved from 0.82946 to 0.83246, saving model to /content/drive/MyDrive/Colab Notebooks/results/d_3dcnnmodel-89-0.83.hd5\n",
            "INFO:tensorflow:Assets written to: /content/drive/MyDrive/Colab Notebooks/results/d_3dcnnmodel-89-0.83.hd5/assets\n",
            "84/84 [==============================] - 16s 188ms/step - loss: 0.2379 - accuracy: 0.9329 - val_loss: 0.6457 - val_accuracy: 0.8325\n",
            "Epoch 90/100\n",
            "84/84 [==============================] - ETA: 0s - loss: 0.2310 - accuracy: 0.9338\n",
            "Epoch 90: val_accuracy did not improve from 0.83246\n",
            "84/84 [==============================] - 14s 173ms/step - loss: 0.2310 - accuracy: 0.9338 - val_loss: 0.6663 - val_accuracy: 0.8298\n",
            "Epoch 91/100\n",
            "84/84 [==============================] - ETA: 0s - loss: 0.2239 - accuracy: 0.9361\n",
            "Epoch 91: val_accuracy improved from 0.83246 to 0.83471, saving model to /content/drive/MyDrive/Colab Notebooks/results/d_3dcnnmodel-91-0.83.hd5\n",
            "INFO:tensorflow:Assets written to: /content/drive/MyDrive/Colab Notebooks/results/d_3dcnnmodel-91-0.83.hd5/assets\n",
            "84/84 [==============================] - 16s 191ms/step - loss: 0.2239 - accuracy: 0.9361 - val_loss: 0.6456 - val_accuracy: 0.8347\n",
            "Epoch 92/100\n",
            "84/84 [==============================] - ETA: 0s - loss: 0.2293 - accuracy: 0.9353\n",
            "Epoch 92: val_accuracy did not improve from 0.83471\n",
            "84/84 [==============================] - 14s 171ms/step - loss: 0.2293 - accuracy: 0.9353 - val_loss: 0.6498 - val_accuracy: 0.8347\n",
            "Epoch 93/100\n",
            "84/84 [==============================] - ETA: 0s - loss: 0.2248 - accuracy: 0.9345\n",
            "Epoch 93: val_accuracy did not improve from 0.83471\n",
            "84/84 [==============================] - 14s 172ms/step - loss: 0.2248 - accuracy: 0.9345 - val_loss: 0.6703 - val_accuracy: 0.8298\n",
            "Epoch 94/100\n",
            "84/84 [==============================] - ETA: 0s - loss: 0.2461 - accuracy: 0.9285\n",
            "Epoch 94: val_accuracy did not improve from 0.83471\n",
            "84/84 [==============================] - 14s 172ms/step - loss: 0.2461 - accuracy: 0.9285 - val_loss: 0.6430 - val_accuracy: 0.8321\n",
            "Epoch 95/100\n",
            "84/84 [==============================] - ETA: 0s - loss: 0.2472 - accuracy: 0.9274\n",
            "Epoch 95: val_accuracy did not improve from 0.83471\n",
            "84/84 [==============================] - 14s 171ms/step - loss: 0.2472 - accuracy: 0.9274 - val_loss: 0.6529 - val_accuracy: 0.8313\n",
            "Epoch 96/100\n",
            "84/84 [==============================] - ETA: 0s - loss: 0.2196 - accuracy: 0.9376\n",
            "Epoch 96: val_accuracy did not improve from 0.83471\n",
            "84/84 [==============================] - 14s 171ms/step - loss: 0.2196 - accuracy: 0.9376 - val_loss: 0.6686 - val_accuracy: 0.8268\n",
            "Epoch 97/100\n",
            "84/84 [==============================] - ETA: 0s - loss: 0.2286 - accuracy: 0.9355\n",
            "Epoch 97: val_accuracy did not improve from 0.83471\n",
            "84/84 [==============================] - 14s 172ms/step - loss: 0.2286 - accuracy: 0.9355 - val_loss: 0.6775 - val_accuracy: 0.8317\n",
            "Epoch 98/100\n",
            "84/84 [==============================] - ETA: 0s - loss: 0.2435 - accuracy: 0.9278\n",
            "Epoch 98: val_accuracy did not improve from 0.83471\n",
            "84/84 [==============================] - 14s 172ms/step - loss: 0.2435 - accuracy: 0.9278 - val_loss: 0.6332 - val_accuracy: 0.8343\n",
            "Epoch 99/100\n",
            "84/84 [==============================] - ETA: 0s - loss: 0.2135 - accuracy: 0.9356\n",
            "Epoch 99: val_accuracy did not improve from 0.83471\n",
            "84/84 [==============================] - 14s 172ms/step - loss: 0.2135 - accuracy: 0.9356 - val_loss: 0.6547 - val_accuracy: 0.8336\n",
            "Epoch 100/100\n",
            "84/84 [==============================] - ETA: 0s - loss: 0.2255 - accuracy: 0.9353\n",
            "Epoch 100: val_accuracy did not improve from 0.83471\n",
            "84/84 [==============================] - 14s 172ms/step - loss: 0.2255 - accuracy: 0.9353 - val_loss: 0.6484 - val_accuracy: 0.8302\n"
          ]
        }
      ]
    },
    {
      "cell_type": "code",
      "source": [
        "model.evaluate(X_test, Y_test, verbose=0)"
      ],
      "metadata": {
        "colab": {
          "base_uri": "https://localhost:8080/"
        },
        "id": "7-FBFjDfIYS9",
        "outputId": "bc1c5086-d157-4565-e1a8-ef14821e8e61"
      },
      "execution_count": null,
      "outputs": [
        {
          "output_type": "execute_result",
          "data": {
            "text/plain": [
              "[0.648360550403595, 0.8302099108695984]"
            ]
          },
          "metadata": {},
          "execution_count": 21
        }
      ]
    },
    {
      "cell_type": "code",
      "source": [
        "# path to the directory which results and final model is saved\n",
        "outfile_path = '/content/drive/MyDrive/Colab Notebooks/results'"
      ],
      "metadata": {
        "id": "bk6f2J0UWIZi"
      },
      "execution_count": null,
      "outputs": []
    },
    {
      "cell_type": "code",
      "source": [
        "with open(os.path.join(outfile_path, 'myfirst_3dcnnmodel.json'), 'w') as json_file:\n",
        "        json_file.write(model_json)"
      ],
      "metadata": {
        "id": "jcpDdScXWUD2"
      },
      "execution_count": null,
      "outputs": []
    },
    {
      "cell_type": "code",
      "source": [
        "model.save_weights(os.path.join(outfile_path, 'myfirst_3dcnnmodel-gpu.hd5'))\n",
        "\n",
        "loss, acc = model.evaluate(X_test, Y_test, verbose=0)"
      ],
      "metadata": {
        "id": "lIN2BGr6WxeV"
      },
      "execution_count": null,
      "outputs": []
    },
    {
      "cell_type": "code",
      "source": [
        "print('Test loss:', loss)\n",
        "print('Test accuracy:', acc)\n",
        "\n",
        "plot_history(history, outfile_path)\n",
        "save_history(history, outfile_path)"
      ],
      "metadata": {
        "colab": {
          "base_uri": "https://localhost:8080/",
          "height": 608
        },
        "id": "ThNx2bvPXRpd",
        "outputId": "28035869-0deb-4470-fa6d-50d4293122e5"
      },
      "execution_count": null,
      "outputs": [
        {
          "output_type": "stream",
          "name": "stdout",
          "text": [
            "Test loss: 0.648360550403595\n",
            "Test accuracy: 0.8302099108695984\n"
          ]
        },
        {
          "output_type": "display_data",
          "data": {
            "text/plain": [
              "<Figure size 432x288 with 1 Axes>"
            ],
            "image/png": "[encoded data removed]"
          },
          "metadata": {
            "needs_background": "light"
          }
        },
        {
          "output_type": "display_data",
          "data": {
            "text/plain": [
              "<Figure size 432x288 with 1 Axes>"
            ],
            "image/png": "[encoded data removed]"
          },
          "metadata": {
            "needs_background": "light"
          }
        }
      ]
    }
  ]
}